{
 "cells": [
  {
   "cell_type": "markdown",
   "id": "6c2d1dcf-bf87-4676-881e-098d24f00dfd",
   "metadata": {},
   "source": [
    "# Programação Dinâmica\n",
    "\n",
    "A *programação dinâmica* é um método de resolver problemas\n",
    "computacionais usando a abordagem de dividir e conquistar, de modo que\n",
    "os subproblemas são sobrepostos. Essa sobreposição é feita com a\n",
    "finalidade de reaproveitar a solução de subproblemas que já estiverem\n",
    "resolvidos, esse reaproveitamento exige estruturas de dados\n",
    "auxiliares. Como há subproblemas em comum, é esperado reduzir a\n",
    "complexidade de tempo (melhorar a performance do algoritmo) de um\n",
    "algoritmo que utilize essa técnica. Estudaremos a programação dinâmica\n",
    "usando como referência os livros:\n",
    "\n",
    "* Cormen, Thomas H. et al. Introduction to Algorithms. 3a edição.\n",
    "  The MIT Press. 2009\n",
    "\n",
    "Normalmente utilizamos a programação dinâmica em problemas de\n",
    "otimização e seguimos os seguintes passos para desenvolvê-la:\n",
    "\n",
    "1. caracterizar a estrutura da solução;\n",
    "2. definir recursivamente o valor da solução;\n",
    "3. computar o valor da solução;\n",
    "4. construir a solução ótima a partir do resultado do item 3.\n",
    "\n",
    "Estudaremos o problema de calcular o maior valor de revenda de um\n",
    "bastão para mostrarmos um exemplo prático da programação dinâmica."
   ]
  },
  {
   "cell_type": "markdown",
   "id": "f5a07ee7-f495-4a19-afd5-0e62a1380536",
   "metadata": {},
   "source": [
    "## Problema do Maior Valor de Revenda de um Bastão\n",
    "Iremos abordar alguns elementos da programação dinâmica ao estudar o\n",
    "problema do maior valor de revenda de um bastão. Esse problema é\n",
    "enunciado como:\n",
    "\n",
    "> #### Problema: Maior Valor de Revenda de um Bastão\n",
    "> Dado um bastão de comprimento $n$ e uma tabela de preços $p_i$, para\n",
    "> $i =1, 2, \\ldots, n$, determine o maior valor de revenda $r_n$ ao\n",
    "> vender o bastão com, ou sem, cortes.\n",
    "\n",
    "Na versão em inglês do livro *Introduction to Algorithms*, você irá\n",
    "encontrar esse problema com o nome *rod-cutting problem*. Um exemplo\n",
    "de uma instância desse problema é a seguinte. Para um bastão de\n",
    "comprimento $n=4$, temos a seguinte tabela de preços.\n",
    "\n",
    "|Comprimento| 1 | 2 | 3 | 4 |\n",
    "| --------- | - | - | - | - |\n",
    "|Preço      | 1 | 5 | 8 | 9 |\n",
    "\n",
    "A partir desses dados de entrada, o nosso objetivo é computar o valor\n",
    "de $r_4$ (maior valor de revenda para um bastão de comprimento 4).\n",
    "Isso pode ser feito por analisar todas as possíveis formas de cortar o\n",
    "bastão e tomar o maior valor revenda encontrado. Como há um número\n",
    "finito de possíveis formas de cortar o bastão (mesmo que não seja\n",
    "pequeno), então é garantido que iremos encontrar o máximo seguindo\n",
    "essa abordagem.\n",
    "\n",
    "### Caracterização da solução\n",
    "A análise das possíveis formas de cortar o bastão irá nos permitir\n",
    "identificar a estrutura da solução e, consequentemente, definir\n",
    "recusrivamente o valor dela e obter um algoritmo que utiliza a\n",
    "programação dinâmica para computar o maior valor de revenda.\n",
    "\n",
    "Veja que podemos em como cortar o \n",
    "\n",
    "% definição do valor da solução %\n",
    "\n",
    "% algoritmo %\n",
    "\n",
    "% recupera a solução %"
   ]
  },
  {
   "cell_type": "markdown",
   "id": "f9ab3c29-b2af-43a0-a4d7-e16f438caca3",
   "metadata": {},
   "source": [
    "### Algoritmo recursivo"
   ]
  },
  {
   "cell_type": "code",
   "execution_count": 1,
   "id": "4c92a0fc-cdea-4245-a848-4ec87bda635a",
   "metadata": {},
   "outputs": [],
   "source": [
    "from numpy import inf"
   ]
  },
  {
   "cell_type": "code",
   "execution_count": 2,
   "id": "81a4d1ea-994d-42c5-971f-3414fbb6f47a",
   "metadata": {},
   "outputs": [],
   "source": [
    "def cut_rod_recursivo(precos: list[int],\n",
    "                      n: int) -> int:\n",
    "    \"\"\"\n",
    "Implementação do algoritmo Cut-Rod(p,n) da Seção 15.1 do livro\n",
    "Introduction to Algorithms da página 363.\n",
    "    \"\"\"\n",
    "\n",
    "    ## assuminos que r_0 é zero, por isso, quando n == 0, então\n",
    "    ## retornamos 0 (caso base)\n",
    "    if n == 0:\n",
    "        return 0\n",
    "\n",
    "    ## inicializamos o valor máximo de revenda com -inf pois queremos\n",
    "    ## oter o valor ótimo (maior possível)\n",
    "    max_revenda = - inf\n",
    "\n",
    "    ## repetição usada para encontrar, recursivamente, o valor máximo\n",
    "    ## de revenda\n",
    "    for i in range(n):\n",
    "        max_revenda = max(max_revenda, precos[i] +\n",
    "                          cut_rod_recursivo(precos, n -i -1))\n",
    "\n",
    "    return max_revenda"
   ]
  },
  {
   "cell_type": "code",
   "execution_count": 3,
   "id": "23d30fed-489b-44fe-878d-5572ff4812fe",
   "metadata": {},
   "outputs": [],
   "source": [
    "## gera uma entrada para testar a implementação dos algoritmos\n",
    "## a lista precos representa o valor de venda de cada tamanho\n",
    "## do bastão (rod), de modo que preco[i] é o valor de venda\n",
    "## de um bastão de comprimento i +1 (os índices começam no 0)\n",
    "precos = [1, 5, 8, 9, 10, 17, 17, 20, 24, 30]"
   ]
  },
  {
   "cell_type": "code",
   "execution_count": 4,
   "id": "d7ad8543-9d3d-4b3a-aa80-de42dc457147",
   "metadata": {},
   "outputs": [
    {
     "name": "stdout",
     "output_type": "stream",
     "text": [
      "Valor máximo de revenda: 30\n"
     ]
    }
   ],
   "source": [
    "## testa a implementação do cut_rod_recursivo\n",
    "print(f'Valor máximo de revenda: '\n",
    "      f'{cut_rod_recursivo(precos, len(precos))}')"
   ]
  },
  {
   "cell_type": "markdown",
   "id": "e1bfdf5b-e707-4ffd-9c4a-c25223649a77",
   "metadata": {},
   "source": [
    "### Algoritmo recursivo com memoização"
   ]
  },
  {
   "cell_type": "code",
   "execution_count": 5,
   "id": "4073a1d4-a262-4602-aae5-d0fe1d845780",
   "metadata": {},
   "outputs": [],
   "source": [
    "from numpy import inf"
   ]
  },
  {
   "cell_type": "code",
   "execution_count": 6,
   "id": "0af2a638-5358-45f9-88bb-e715eaa6e5b5",
   "metadata": {},
   "outputs": [],
   "source": [
    "def cut_rod_memoizado(precos: list[int],\n",
    "                      n: int) -> int:\n",
    "    \"\"\"\n",
    "Implementação do algoritmo Memoizado-Cut-Rod(p,n, r) da Seção 15.1\n",
    "do livro Introduction to Algorithms da página 365.\n",
    "    \"\"\"\n",
    "\n",
    "    ## o array revenda irá armazenar os valores de revenda que já\n",
    "    ## forem calculados\n",
    "    ## o array possui n+1 elementos pois queremos salvar os maiores\n",
    "    ## valores de revenda, para cada tamanho, incluindo o caso base\n",
    "    ## o array é inicializado com -inf porque o problema é de\n",
    "    ## maximização\n",
    "    revenda = [-inf] * (n +1)\n",
    "    return cut_rod_memoizado_aux(precos, n, revenda)"
   ]
  },
  {
   "cell_type": "code",
   "execution_count": 7,
   "id": "6f25daa2-ff2b-458a-8907-2cd50dd59ebf",
   "metadata": {},
   "outputs": [],
   "source": [
    "def cut_rod_memoizado_aux(precos: list[int],\n",
    "                          n: int,\n",
    "                          revenda: list[int]) -> int:\n",
    "    \"\"\"\n",
    "Implementação do algoritmo Memoizado-Cut-Rod-Aux(p,n, r) da Seção 15.1\n",
    "do livro Introduction to Algorithms da página 365.\n",
    "    \"\"\"\n",
    "\n",
    "    ## caso o valor de revenda já tenha sido calculado, então retorna\n",
    "    ## o valor de revenda[n] e não o computa novamente\n",
    "    if revenda[n] >= 0:\n",
    "        return revenda[n]\n",
    "\n",
    "    ## caso base: valor de revenda de um bastão de comprimento 0 é 0\n",
    "    if n == 0:\n",
    "        max_revenda = 0\n",
    "\n",
    "    ## computa recursivamente o melhor valor de revenda\n",
    "    else:\n",
    "        max_revenda = - inf\n",
    "        for i in range(n):\n",
    "            max_revenda = max(max_revenda, precos[i] +\n",
    "                              cut_rod_memoizado_aux(precos,\n",
    "                                                    n -i -1,\n",
    "                                                    revenda))\n",
    "\n",
    "    revenda[n] = max_revenda\n",
    "    return max_revenda"
   ]
  },
  {
   "cell_type": "code",
   "execution_count": 8,
   "id": "ea9fdb7b-32ba-4437-9323-1b457e1ae56e",
   "metadata": {},
   "outputs": [],
   "source": [
    "## gera uma entrada para testar a implementação dos algoritmos\n",
    "## a lista precos representa o valor de venda de cada tamanho\n",
    "## do bastão (rod), de modo que preco[i] é o valor de venda\n",
    "## de um bastão de comprimento i +1 (os índices começam no 0)\n",
    "precos = [1, 5, 8, 9, 10, 17, 17, 20, 24, 30]"
   ]
  },
  {
   "cell_type": "code",
   "execution_count": 9,
   "id": "a36527bd-0949-418f-ae2b-435965f8d7d3",
   "metadata": {},
   "outputs": [
    {
     "name": "stdout",
     "output_type": "stream",
     "text": [
      "Valor máximo de revenda: 30\n"
     ]
    }
   ],
   "source": [
    "## testa a implementação do cut_rod_memoizado\n",
    "print(f'Valor máximo de revenda: '\n",
    "      f'{cut_rod_memoizado(precos, len(precos))}')"
   ]
  },
  {
   "cell_type": "markdown",
   "id": "ba6670e0-1e9a-4efb-889e-ff703eba7fcd",
   "metadata": {},
   "source": [
    "### Algoritmo iterativo com memoização"
   ]
  },
  {
   "cell_type": "code",
   "execution_count": 10,
   "id": "761e557f-2b23-4e81-b199-b2f048e0e7c2",
   "metadata": {},
   "outputs": [],
   "source": [
    "from numpy import inf"
   ]
  },
  {
   "cell_type": "code",
   "execution_count": 11,
   "id": "3228f613-f79f-4a1b-9e9d-14b2a69c17ef",
   "metadata": {},
   "outputs": [],
   "source": [
    "def cut_rod_iterativo(precos: list[int],\n",
    "                      n: int) -> int:\n",
    "    \"\"\"\n",
    "Implementação do algoritmo Bottom-Up-Cut-Rod(p,n) da Seção 15.1 do livro\n",
    "Introduction to Algorithms da página 366\n",
    "    \"\"\"\n",
    "\n",
    "    ## revenda é um array que irá armazenar os maiores valores de\n",
    "    ## revenda de acordo com o tamanho dos subproblemas, ou seja,\n",
    "    ## revenda[0] contém o maior valor de revenda para um bastão\n",
    "    ## de comprimento 0, revenda[1] contém o maior valor de revenda\n",
    "    ## para um bastão de comprimento 1 e assim por diante\n",
    "    revenda = [None] * (n +1)\n",
    "    ## preenchendo o valor do caso base (comprimento zero)\n",
    "    revenda[0] = 0\n",
    "\n",
    "    ## o índice j começa no 1, porque o índice 0 contém o caso\n",
    "    ## base (r_0 = 0, um bastão de comprimento 0)\n",
    "    for j in range(1, n+1):\n",
    "        max_revenda = -inf\n",
    "\n",
    "        ## o índice i vai até o valor j, pois o indice j é o tamanho\n",
    "        ## do maior subproblema resolvido até o momento\n",
    "        for i in range(j):\n",
    "            ## esse print serve apenas para mostrar os tamanhos dos\n",
    "            ## subproblemas\n",
    "            ## print(f'i: {i} \\t j-i-1: {j -i -1}')\n",
    "            max_revenda = max(max_revenda,\n",
    "                              precos[i] + revenda[j -i -1])\n",
    "\n",
    "        ## esse print serve apenas para mostrar os tamanhos dos\n",
    "        ## subproblemas\n",
    "        ## print(\"\")\n",
    "        revenda[j] = max_revenda\n",
    "\n",
    "    return revenda[n]"
   ]
  },
  {
   "cell_type": "code",
   "execution_count": 12,
   "id": "969eb9c6-0dae-4a80-8920-7aeac657a685",
   "metadata": {},
   "outputs": [],
   "source": [
    "def cut_rod_estendido(precos: list[int],\n",
    "                      n: int) -> tuple:\n",
    "    \"\"\"\n",
    "Implementação do algoritmo Bottom-Up-Cut-Rod(p,n) da Seção 15.1 do livro\n",
    "Introduction to Algorithms da página 366\n",
    "    \"\"\"\n",
    "\n",
    "    ## revenda é um array que irá armazenar os maiores valores de\n",
    "    ## revenda de acordo com o tamanho dos subproblemas, ou seja,\n",
    "    ## revenda[0] contém o maior valor de revenda para um bastão\n",
    "    ## de comprimento 0, revenda[1] contém o maior valor de revenda\n",
    "    ## para um bastão de comprimento 1 e assim por diante\n",
    "    revenda = [None] * (n +1)\n",
    "    ## preenchendo o valor do caso base (comprimento zero)\n",
    "    revenda[0] = 0\n",
    "\n",
    "    ## o array max_corte serve para guardar o tamanho da divisão que\n",
    "    ## resulta no maior valor de revenda\n",
    "    max_corte = [None] * (n +1)\n",
    "\n",
    "    ## o índice j começa no 1, porque o índice 0 contém o caso\n",
    "    ## base (r_0 = 0, um bastão de comprimento 0)\n",
    "    for j in range(1, n+1):\n",
    "        max_revenda = -inf\n",
    "\n",
    "        ## o índice i vai até o valor j, pois o indice j é o tamanho\n",
    "        ## do maior subproblema resolvido até o momento\n",
    "        for i in range(j):\n",
    "            ## esse print serve apenas para mostrar os tamanhos dos\n",
    "            ## subproblemas\n",
    "            ## print(f'i: {i} \\t j-i-1: {j -i -1}')\n",
    "            if max_revenda < precos[i] + revenda[j -i -1]:\n",
    "                max_revenda = precos[i] + revenda[j -i -1]\n",
    "                ## guarda o tamanho da divisão que dera um valor de\n",
    "                ## revenda maior do que a solução corrente\n",
    "                max_corte[j] = i +1\n",
    "\n",
    "        ## esse print serve apenas para mostrar os tamanhos dos\n",
    "        ## subproblemas\n",
    "        ## print(\"\")\n",
    "        revenda[j] = max_revenda\n",
    "\n",
    "    return revenda,max_corte"
   ]
  },
  {
   "cell_type": "code",
   "execution_count": 13,
   "id": "0669c1fd-747f-4202-9d8c-8e8d4fd22d04",
   "metadata": {},
   "outputs": [],
   "source": [
    "def imprime_cut_rod(precos: list[int],\n",
    "                    n: int) -> None:\n",
    "\n",
    "    ## determina o maior valor de revenda e também o tamanho dos\n",
    "    ## cortes que resultam na solução ótima\n",
    "    revenda, max_corte = cut_rod_estendido(precos, n)\n",
    "\n",
    "    ## imprime os dados da solução encontrada pelo cut_rod_estendido\n",
    "    ## inicializamos a variável i com n, pois o valor da solução\n",
    "    ## ótima está na última posição do array revenda (esse array tem\n",
    "    ## n +1 elementos)\n",
    "    i = n\n",
    "    print(f'Maior valor de revenda: {revenda[i]}\\n'\n",
    "          f'Tamanho dos cortes')\n",
    "\n",
    "    while i > 0:\n",
    "        print(max_corte[i], end=' ')\n",
    "        ## o array max_corte é indexado pelo tamanho dos subproblemas\n",
    "        ## o max_corte[i] contém o valor do tamanho do corte que\n",
    "        ## produz o maior valor de revenda para um bastão de tamanho i\n",
    "        ## note que i - max_corte[i] resulta no tamanho do corte\n",
    "        ## restante da solução ótima (caso tenha um corte restante)\n",
    "        ## como isso corresponde ao tamanho de um subproblema, então\n",
    "        ## esse valor é usado para a próxima iteração do while\n",
    "        i = i - max_corte[i]\n",
    "\n",
    "    print(end='\\n')"
   ]
  },
  {
   "cell_type": "code",
   "execution_count": 14,
   "id": "d2730441-d53f-4b88-9427-e28f66f6f517",
   "metadata": {},
   "outputs": [],
   "source": [
    "## gera uma entrada para testar a implementação dos algoritmos\n",
    "## a lista precos representa o valor de venda de cada tamanho\n",
    "## do bastão (rod), de modo que preco[i] é o valor de venda\n",
    "## de um bastão de comprimento i +1 (os índices começam no 0)\n",
    "precos = [1, 5, 8, 9, 10, 17, 17, 20, 24, 30]"
   ]
  },
  {
   "cell_type": "code",
   "execution_count": 15,
   "id": "76e2e416-771f-44eb-af24-f7e9207f2442",
   "metadata": {},
   "outputs": [
    {
     "name": "stdout",
     "output_type": "stream",
     "text": [
      "Maior valor de revenda: 30\n",
      "Tamanho dos cortes\n",
      "10 \n"
     ]
    }
   ],
   "source": [
    "## testa a implementação do cut_rod_iterativo e \n",
    "# print(f'Valor máximo de revenda: '\n",
    "#       f'{cut_rod_iterativo(precos, len(precos))}')\n",
    "imprime_cut_rod(precos, len(precos))"
   ]
  }
 ],
 "metadata": {
  "kernelspec": {
   "display_name": "Python 3 (ipykernel)",
   "language": "python",
   "name": "python3"
  },
  "language_info": {
   "codemirror_mode": {
    "name": "ipython",
    "version": 3
   },
   "file_extension": ".py",
   "mimetype": "text/x-python",
   "name": "python",
   "nbconvert_exporter": "python",
   "pygments_lexer": "ipython3",
   "version": "3.10.12"
  }
 },
 "nbformat": 4,
 "nbformat_minor": 5
}
