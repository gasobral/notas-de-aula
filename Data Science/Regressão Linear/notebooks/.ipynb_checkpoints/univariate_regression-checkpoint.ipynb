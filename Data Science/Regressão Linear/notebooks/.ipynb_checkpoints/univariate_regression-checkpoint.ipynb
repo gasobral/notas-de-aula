{
 "cells": [
  {
   "cell_type": "markdown",
   "id": "7833c1ac-b4d9-43c2-a790-95f44b64a9da",
   "metadata": {},
   "source": [
    "# Regressão Linear\n",
    "A previsão de estoque, do valor da saca de café e da disseminação de\n",
    "doenças são questões de interesse. Normalmente, utilizamos modelos\n",
    "para realizar tais previsões, e a regressão linear é um destes\n",
    "modelos. Começamos os estudos em aprendizado de máquina pela\n",
    "regressão linear, pois ela é intuitiva e simples de interpretar.\n",
    "Primeiro abordaremos a *regressão simples* e depois a\n",
    "*regressão multivariada*."
   ]
  },
  {
   "cell_type": "markdown",
   "id": "818ede9f-c278-4461-8253-b2c1ce451480",
   "metadata": {},
   "source": [
    "## Regressão Linear Simples"
   ]
  },
  {
   "cell_type": "markdown",
   "id": "fadd6537-52f6-4864-b1f8-430bb3692e0b",
   "metadata": {},
   "source": [
    "## Dataset\n",
    "O primeiro passo, quando estamos criando um modelo, é examinar os\n",
    "dados. Neste exemplo, vamos examinar os dados sobre a capacidade\n",
    "pulmonar (PEFR) e o tempo de exposição à poeira, em anos."
   ]
  },
  {
   "cell_type": "markdown",
   "id": "21102102-1026-43f5-b7e8-4725dad2fe1e",
   "metadata": {},
   "source": [
    "### Dicionário dos Dados\n",
    "\n",
    "| Column Name | Data Type | Description                              |\n",
    "| :---------- | :-------- | :--------------------------------------- |\n",
    "| PEFR        | int       | o volume de dar expelido dos pulmões numa|\n",
    "|             |           | rápida exalação, isso é um indicador     |\n",
    "|             |           | confiável da adequada ventilação tanto   | \n",
    "|             |           | quanto da obstrução do fluxo de ar.      |\n",
    "| Exposure    | int       | exposição em anos à poeira.              |"
   ]
  },
  {
   "cell_type": "code",
   "execution_count": 1,
   "id": "670a8273-145b-4374-a702-a805df3a1693",
   "metadata": {},
   "outputs": [],
   "source": [
    "import pandas as pd"
   ]
  },
  {
   "cell_type": "code",
   "execution_count": 2,
   "id": "98813a23-60d4-4a66-a3f8-ca5b345351be",
   "metadata": {},
   "outputs": [],
   "source": [
    "file_path = \"../data/LungDisease.csv\"\n",
    "lung_disease = pd.read_csv(file_path)"
   ]
  },
  {
   "cell_type": "code",
   "execution_count": 3,
   "id": "dcd6bf54-2715-4612-9a9d-c6622aedd5fa",
   "metadata": {},
   "outputs": [
    {
     "name": "stdout",
     "output_type": "stream",
     "text": [
      "<class 'pandas.core.frame.DataFrame'>\n",
      "RangeIndex: 122 entries, 0 to 121\n",
      "Data columns (total 2 columns):\n",
      " #   Column    Non-Null Count  Dtype\n",
      "---  ------    --------------  -----\n",
      " 0   PEFR      122 non-null    int64\n",
      " 1   Exposure  122 non-null    int64\n",
      "dtypes: int64(2)\n",
      "memory usage: 2.0 KB\n"
     ]
    }
   ],
   "source": [
    "lung_disease.info()"
   ]
  },
  {
   "cell_type": "code",
   "execution_count": 4,
   "id": "d792c72d-163f-45fd-8d35-0504812b11ae",
   "metadata": {},
   "outputs": [
    {
     "data": {
      "text/html": [
       "<div>\n",
       "<style scoped>\n",
       "    .dataframe tbody tr th:only-of-type {\n",
       "        vertical-align: middle;\n",
       "    }\n",
       "\n",
       "    .dataframe tbody tr th {\n",
       "        vertical-align: top;\n",
       "    }\n",
       "\n",
       "    .dataframe thead th {\n",
       "        text-align: right;\n",
       "    }\n",
       "</style>\n",
       "<table border=\"1\" class=\"dataframe\">\n",
       "  <thead>\n",
       "    <tr style=\"text-align: right;\">\n",
       "      <th></th>\n",
       "      <th>PEFR</th>\n",
       "      <th>Exposure</th>\n",
       "    </tr>\n",
       "  </thead>\n",
       "  <tbody>\n",
       "    <tr>\n",
       "      <th>0</th>\n",
       "      <td>390</td>\n",
       "      <td>0</td>\n",
       "    </tr>\n",
       "    <tr>\n",
       "      <th>1</th>\n",
       "      <td>410</td>\n",
       "      <td>0</td>\n",
       "    </tr>\n",
       "    <tr>\n",
       "      <th>2</th>\n",
       "      <td>430</td>\n",
       "      <td>0</td>\n",
       "    </tr>\n",
       "    <tr>\n",
       "      <th>3</th>\n",
       "      <td>460</td>\n",
       "      <td>0</td>\n",
       "    </tr>\n",
       "    <tr>\n",
       "      <th>4</th>\n",
       "      <td>420</td>\n",
       "      <td>1</td>\n",
       "    </tr>\n",
       "  </tbody>\n",
       "</table>\n",
       "</div>"
      ],
      "text/plain": [
       "   PEFR  Exposure\n",
       "0   390         0\n",
       "1   410         0\n",
       "2   430         0\n",
       "3   460         0\n",
       "4   420         1"
      ]
     },
     "execution_count": 4,
     "metadata": {},
     "output_type": "execute_result"
    }
   ],
   "source": [
    "## exibindo uma pequena amostra dados\n",
    "lung_disease.head(5)"
   ]
  },
  {
   "cell_type": "code",
   "execution_count": 5,
   "id": "3f8b50d9-24f4-4eb9-ae0c-0f381ad1e02b",
   "metadata": {},
   "outputs": [
    {
     "data": {
      "text/plain": [
       "1"
      ]
     },
     "execution_count": 5,
     "metadata": {},
     "output_type": "execute_result"
    }
   ],
   "source": [
    "## verificando se há linhas duplicadas\n",
    "lung_disease.duplicated().sum()"
   ]
  },
  {
   "cell_type": "code",
   "execution_count": 6,
   "id": "03242c74-8d00-44a2-9858-eb8e02a5bd82",
   "metadata": {},
   "outputs": [
    {
     "data": {
      "text/html": [
       "<div>\n",
       "<style scoped>\n",
       "    .dataframe tbody tr th:only-of-type {\n",
       "        vertical-align: middle;\n",
       "    }\n",
       "\n",
       "    .dataframe tbody tr th {\n",
       "        vertical-align: top;\n",
       "    }\n",
       "\n",
       "    .dataframe thead th {\n",
       "        text-align: right;\n",
       "    }\n",
       "</style>\n",
       "<table border=\"1\" class=\"dataframe\">\n",
       "  <thead>\n",
       "    <tr style=\"text-align: right;\">\n",
       "      <th></th>\n",
       "      <th>PEFR</th>\n",
       "      <th>Exposure</th>\n",
       "    </tr>\n",
       "  </thead>\n",
       "  <tbody>\n",
       "    <tr>\n",
       "      <th>63</th>\n",
       "      <td>360</td>\n",
       "      <td>17</td>\n",
       "    </tr>\n",
       "  </tbody>\n",
       "</table>\n",
       "</div>"
      ],
      "text/plain": [
       "    PEFR  Exposure\n",
       "63   360        17"
      ]
     },
     "execution_count": 6,
     "metadata": {},
     "output_type": "execute_result"
    }
   ],
   "source": [
    "lung_disease[lung_disease.duplicated()]"
   ]
  },
  {
   "cell_type": "code",
   "execution_count": 7,
   "id": "423f9d3d-24f8-4eb3-b742-9db81857baac",
   "metadata": {},
   "outputs": [],
   "source": [
    "## há apenas uma linha duplicada, pode ter ocorrido dois casos\n",
    "## (1) registro duplicado\n",
    "##     devemos remover a linha duplicada para não introduzir um\n",
    "##     viés (um registro contribui mais vezes do que deveria)\n",
    "##\n",
    "## (2) um registro válido\n",
    "##     como não temos um campo que identifique unicamente uma\n",
    "##     linha (a menos de todas as colunas), então podemos ter\n",
    "##     um outro registro com PEFR=360 e 17 anos de exposição\n",
    "##     nesse caso a minha não deve ser removida\n",
    "##\n",
    "## abaixo temos a instrução que remove a linha duplicada\n",
    "## sugerimos executar o código sem a remoção, com remoção\n",
    "## e analisar os resultados\n",
    "## como se trata de apenas 1 linha, não esperamos um grande\n",
    "## impacto\n",
    "# lung_disease.drop_duplicates(inplace=True)"
   ]
  },
  {
   "cell_type": "code",
   "execution_count": 8,
   "id": "13fd3e41-ece5-40bd-8145-f5b02fc21d58",
   "metadata": {},
   "outputs": [
    {
     "data": {
      "text/plain": [
       "PEFR        0.0\n",
       "Exposure    0.0\n",
       "dtype: float64"
      ]
     },
     "execution_count": 8,
     "metadata": {},
     "output_type": "execute_result"
    }
   ],
   "source": [
    "## obtendo a porcentagem de valores nulos\n",
    "lung_disease.isna().sum() / lung_disease.shape[0] * 100"
   ]
  },
  {
   "cell_type": "code",
   "execution_count": 9,
   "id": "0b479573-41b7-44d6-a60b-f37c1b279e03",
   "metadata": {},
   "outputs": [
    {
     "data": {
      "text/html": [
       "<div>\n",
       "<style scoped>\n",
       "    .dataframe tbody tr th:only-of-type {\n",
       "        vertical-align: middle;\n",
       "    }\n",
       "\n",
       "    .dataframe tbody tr th {\n",
       "        vertical-align: top;\n",
       "    }\n",
       "\n",
       "    .dataframe thead th {\n",
       "        text-align: right;\n",
       "    }\n",
       "</style>\n",
       "<table border=\"1\" class=\"dataframe\">\n",
       "  <thead>\n",
       "    <tr style=\"text-align: right;\">\n",
       "      <th></th>\n",
       "      <th>count</th>\n",
       "      <th>mean</th>\n",
       "      <th>std</th>\n",
       "      <th>min</th>\n",
       "      <th>25%</th>\n",
       "      <th>50%</th>\n",
       "      <th>75%</th>\n",
       "      <th>max</th>\n",
       "    </tr>\n",
       "  </thead>\n",
       "  <tbody>\n",
       "    <tr>\n",
       "      <th>PEFR</th>\n",
       "      <td>122.0</td>\n",
       "      <td>365.655738</td>\n",
       "      <td>105.132641</td>\n",
       "      <td>110.0</td>\n",
       "      <td>300.0</td>\n",
       "      <td>365.0</td>\n",
       "      <td>430.0</td>\n",
       "      <td>610.0</td>\n",
       "    </tr>\n",
       "    <tr>\n",
       "      <th>Exposure</th>\n",
       "      <td>122.0</td>\n",
       "      <td>14.081967</td>\n",
       "      <td>6.959850</td>\n",
       "      <td>0.0</td>\n",
       "      <td>7.0</td>\n",
       "      <td>17.0</td>\n",
       "      <td>20.0</td>\n",
       "      <td>23.0</td>\n",
       "    </tr>\n",
       "  </tbody>\n",
       "</table>\n",
       "</div>"
      ],
      "text/plain": [
       "          count        mean         std    min    25%    50%    75%    max\n",
       "PEFR      122.0  365.655738  105.132641  110.0  300.0  365.0  430.0  610.0\n",
       "Exposure  122.0   14.081967    6.959850    0.0    7.0   17.0   20.0   23.0"
      ]
     },
     "execution_count": 9,
     "metadata": {},
     "output_type": "execute_result"
    }
   ],
   "source": [
    "## agora vamos analisar a distruição dos dados\n",
    "lung_disease.describe().T"
   ]
  },
  {
   "cell_type": "code",
   "execution_count": 10,
   "id": "c326b237-630a-4e90-90bc-64940a1f501a",
   "metadata": {},
   "outputs": [],
   "source": [
    "import matplotlib.pyplot as plt\n",
    "%matplotlib inline"
   ]
  },
  {
   "cell_type": "code",
   "execution_count": 11,
   "id": "bfabc125-dc5f-45fd-a50e-0fe0cfbb19a6",
   "metadata": {},
   "outputs": [
    {
     "data": {
      "image/png": "[encoded data removed]",
      "text/plain": [
       "<Figure size 1400x800 with 2 Axes>"
      ]
     },
     "metadata": {},
     "output_type": "display_data"
    }
   ],
   "source": [
    "fig, ax = plt.subplots(1, 2, figsize=(14, 8))\n",
    "\n",
    "ax[0].hist(lung_disease['PEFR'])\n",
    "ax[0].set_xlabel('PEFR')\n",
    "ax[0].set_ylabel('Frequência')\n",
    "ax[0].set_title('Histograma do PEFR')\n",
    "\n",
    "ax[1].hist(lung_disease['Exposure'])\n",
    "ax[1].set_xlabel('Exposição em anos')\n",
    "ax[1].set_ylabel('Frequência')\n",
    "ax[1].set_title('Histograma do tempo de Exposição')\n",
    "\n",
    "plt.show()"
   ]
  },
  {
   "cell_type": "markdown",
   "id": "e7ed1741-d133-470a-accf-d096cbab4c67",
   "metadata": {},
   "source": [
    "A partir dos histogramas, podemos verificar que o PEFR tem uma\n",
    "distribuição visualmente parecida com a normal, o que pode indicar uma\n",
    "amostra bem representativa. Enquanto que o tempo de exposição é\n",
    "assimétrico à esquerda, isso significa que uma parte considerável dos\n",
    "registro são de pessoas com bastante tempo de exposição (mais do que 7\n",
    "anos, por exemplo). Para termos uma relação mais clara entre PEFR e o\n",
    "tempo de exposição, vamos criar um gráfico de dispersão entre essas\n",
    "duas variáveis."
   ]
  },
  {
   "cell_type": "code",
   "execution_count": 12,
   "id": "9b2594ca-5cce-407b-bd4c-17ccf6ded343",
   "metadata": {},
   "outputs": [
    {
     "data": {
      "image/png": "[encoded data removed]",
      "text/plain": [
       "<Figure size 1400x800 with 1 Axes>"
      ]
     },
     "metadata": {},
     "output_type": "display_data"
    }
   ],
   "source": [
    "fig, ax = plt.subplots(1, 1, figsize=(14, 8))\n",
    "\n",
    "ax.scatter(x=lung_disease['Exposure'],\n",
    "           y=lung_disease['PEFR'])\n",
    "ax.set_xlabel('Exposição em anos')\n",
    "ax.set_ylabel('PEFR')\n",
    "ax.set_title('Gráfico de dispersão entre Exposição x PEFR')\n",
    "\n",
    "plt.show()"
   ]
  },
  {
   "cell_type": "markdown",
   "id": "f1b57079-83eb-4e77-88e4-164badf445aa",
   "metadata": {},
   "source": [
    "Agora desejamos encontrar algum indício de uma relação linear entre o\n",
    "tempo de exposição e PEFR no gráfico de dispersão. Graficamente, uma\n",
    "relação linear é representada por uma reta. No gráfico de dispersão\n",
    "acima, os pontos sugerem fracamente uma reta com uma inclinação\n",
    "negativa. Analiticamente, podemos usar correlação de *Pearson* para\n",
    "expressar a relação linear entre variáveis. Neste exemplo temos o\n",
    "seguinte:"
   ]
  },
  {
   "cell_type": "code",
   "execution_count": 13,
   "id": "d8583493-a981-4a81-a917-80eae628880b",
   "metadata": {},
   "outputs": [
    {
     "data": {
      "text/html": [
       "<div>\n",
       "<style scoped>\n",
       "    .dataframe tbody tr th:only-of-type {\n",
       "        vertical-align: middle;\n",
       "    }\n",
       "\n",
       "    .dataframe tbody tr th {\n",
       "        vertical-align: top;\n",
       "    }\n",
       "\n",
       "    .dataframe thead th {\n",
       "        text-align: right;\n",
       "    }\n",
       "</style>\n",
       "<table border=\"1\" class=\"dataframe\">\n",
       "  <thead>\n",
       "    <tr style=\"text-align: right;\">\n",
       "      <th></th>\n",
       "      <th>PEFR</th>\n",
       "      <th>Exposure</th>\n",
       "    </tr>\n",
       "  </thead>\n",
       "  <tbody>\n",
       "    <tr>\n",
       "      <th>PEFR</th>\n",
       "      <td>1.000000</td>\n",
       "      <td>-0.277022</td>\n",
       "    </tr>\n",
       "    <tr>\n",
       "      <th>Exposure</th>\n",
       "      <td>-0.277022</td>\n",
       "      <td>1.000000</td>\n",
       "    </tr>\n",
       "  </tbody>\n",
       "</table>\n",
       "</div>"
      ],
      "text/plain": [
       "              PEFR  Exposure\n",
       "PEFR      1.000000 -0.277022\n",
       "Exposure -0.277022  1.000000"
      ]
     },
     "execution_count": 13,
     "metadata": {},
     "output_type": "execute_result"
    }
   ],
   "source": [
    "lung_disease.corr()"
   ]
  },
  {
   "cell_type": "markdown",
   "id": "bb996c71-cea0-47bb-b06d-03552a098ee2",
   "metadata": {},
   "source": [
    "O coeficiente de correlação indica que não há uma forte correlação\n",
    "linear entre o tempo de exposição e o PEFR. Esse resultado em conjunto\n",
    "com o gráfico de dispersão, sugerem que um modelo criado por uma\n",
    "regressão linear, usando apenas o tempo de exposição, pode ser\n",
    "impreciso.\n",
    "\n",
    "Como estamos lidando com um modelo que sofre interefência das\n",
    "distâncias no espaço, então é conveniente garantirmos que todas as\n",
    "variáveis tenham a mesma faixa de valores. Por isso iremos aplicar um\n",
    "escalonamento *min-max* nos dados. Após a transformação dos dados,\n",
    "vamos verificar a relação entre as variáveis."
   ]
  },
  {
   "cell_type": "code",
   "execution_count": 14,
   "id": "48f6065a-164b-4fc1-967a-ec4cc8532be8",
   "metadata": {},
   "outputs": [],
   "source": [
    "from sklearn.preprocessing import MinMaxScaler"
   ]
  },
  {
   "cell_type": "code",
   "execution_count": 15,
   "id": "13f41582-396b-4092-b07d-f0e758917837",
   "metadata": {},
   "outputs": [],
   "source": [
    "minmax_scaler = MinMaxScaler()\n",
    "lung_disease['Exposure_scaled'] = minmax_scaler.fit_transform(lung_disease.loc[:,'Exposure':'Exposure'])\n",
    "lung_disease['PEFR_scaled'] = minmax_scaler.fit_transform(lung_disease.loc[:,'PEFR':'PEFR'])"
   ]
  },
  {
   "cell_type": "code",
   "execution_count": 16,
   "id": "2fde3692-adb5-4ec2-b1b8-25253be8775b",
   "metadata": {},
   "outputs": [
    {
     "data": {
      "image/png": "[encoded data removed]",
      "text/plain": [
       "<Figure size 1400x800 with 1 Axes>"
      ]
     },
     "metadata": {},
     "output_type": "display_data"
    }
   ],
   "source": [
    "fig, ax = plt.subplots(1, 1, figsize=(14, 8))\n",
    "\n",
    "ax.scatter(x=lung_disease['Exposure_scaled'],\n",
    "           y=lung_disease['PEFR_scaled'])\n",
    "ax.set_xlabel('Exposição em anos')\n",
    "ax.set_ylabel('PEFR')\n",
    "ax.set_title('Gráfico de dispersão entre Exposição x PEFR')\n",
    "\n",
    "plt.show()"
   ]
  },
  {
   "cell_type": "code",
   "execution_count": 17,
   "id": "fae543b2-497e-4174-9919-91799710d108",
   "metadata": {},
   "outputs": [
    {
     "data": {
      "text/html": [
       "<div>\n",
       "<style scoped>\n",
       "    .dataframe tbody tr th:only-of-type {\n",
       "        vertical-align: middle;\n",
       "    }\n",
       "\n",
       "    .dataframe tbody tr th {\n",
       "        vertical-align: top;\n",
       "    }\n",
       "\n",
       "    .dataframe thead th {\n",
       "        text-align: right;\n",
       "    }\n",
       "</style>\n",
       "<table border=\"1\" class=\"dataframe\">\n",
       "  <thead>\n",
       "    <tr style=\"text-align: right;\">\n",
       "      <th></th>\n",
       "      <th>Exposure_scaled</th>\n",
       "      <th>PEFR_scaled</th>\n",
       "    </tr>\n",
       "  </thead>\n",
       "  <tbody>\n",
       "    <tr>\n",
       "      <th>Exposure_scaled</th>\n",
       "      <td>1.000000</td>\n",
       "      <td>-0.277022</td>\n",
       "    </tr>\n",
       "    <tr>\n",
       "      <th>PEFR_scaled</th>\n",
       "      <td>-0.277022</td>\n",
       "      <td>1.000000</td>\n",
       "    </tr>\n",
       "  </tbody>\n",
       "</table>\n",
       "</div>"
      ],
      "text/plain": [
       "                 Exposure_scaled  PEFR_scaled\n",
       "Exposure_scaled         1.000000    -0.277022\n",
       "PEFR_scaled            -0.277022     1.000000"
      ]
     },
     "execution_count": 17,
     "metadata": {},
     "output_type": "execute_result"
    }
   ],
   "source": [
    "lung_disease[['Exposure_scaled', 'PEFR_scaled']].corr()"
   ]
  },
  {
   "cell_type": "markdown",
   "id": "a161234e-b23a-4e86-ba05-84b774af6543",
   "metadata": {},
   "source": [
    "Infelizmente não tivemos um melhor resultado ao fazer o escalonamento.\n",
    "Porém, como dispomos apenas desses dados, então daremos proseguimento\n",
    "a crição do modelo."
   ]
  },
  {
   "cell_type": "markdown",
   "id": "613837be-e938-4ab8-96e1-c96939e42564",
   "metadata": {},
   "source": [
    "## Univariate Linear Regression"
   ]
  },
  {
   "cell_type": "code",
   "execution_count": 18,
   "id": "0d60e290-bf51-4cde-b0c9-c3cef69c0c43",
   "metadata": {},
   "outputs": [],
   "source": [
    "from sklearn.linear_model import LinearRegression"
   ]
  },
  {
   "cell_type": "code",
   "execution_count": 21,
   "id": "e92282cc-28e1-49d5-8742-12a96f119181",
   "metadata": {},
   "outputs": [],
   "source": [
    "## Separamos os dados em:\n",
    "## X: variáveis preditoras (usados para prever o valor)\n",
    "## y: variável alvo (valor que desejo prever)\n",
    "X = lung_disease.loc[:,'Exposure':'Exposure']\n",
    "y = lung_disease['PEFR']"
   ]
  },
  {
   "cell_type": "code",
   "execution_count": 22,
   "id": "a2520bc0-ffe2-4608-b68e-22b12e333a61",
   "metadata": {},
   "outputs": [
    {
     "data": {
      "text/html": [
       "<style>#sk-container-id-1 {\n",
       "  /* Definition of color scheme common for light and dark mode */\n",
       "  --sklearn-color-text: black;\n",
       "  --sklearn-color-line: gray;\n",
       "  /* Definition of color scheme for unfitted estimators */\n",
       "  --sklearn-color-unfitted-level-0: #fff5e6;\n",
       "  --sklearn-color-unfitted-level-1: #f6e4d2;\n",
       "  --sklearn-color-unfitted-level-2: #ffe0b3;\n",
       "  --sklearn-color-unfitted-level-3: chocolate;\n",
       "  /* Definition of color scheme for fitted estimators */\n",
       "  --sklearn-color-fitted-level-0: #f0f8ff;\n",
       "  --sklearn-color-fitted-level-1: #d4ebff;\n",
       "  --sklearn-color-fitted-level-2: #b3dbfd;\n",
       "  --sklearn-color-fitted-level-3: cornflowerblue;\n",
       "\n",
       "  /* Specific color for light theme */\n",
       "  --sklearn-color-text-on-default-background: var(--sg-text-color, var(--theme-code-foreground, var(--jp-content-font-color1, black)));\n",
       "  --sklearn-color-background: var(--sg-background-color, var(--theme-background, var(--jp-layout-color0, white)));\n",
       "  --sklearn-color-border-box: var(--sg-text-color, var(--theme-code-foreground, var(--jp-content-font-color1, black)));\n",
       "  --sklearn-color-icon: #696969;\n",
       "\n",
       "  @media (prefers-color-scheme: dark) {\n",
       "    /* Redefinition of color scheme for dark theme */\n",
       "    --sklearn-color-text-on-default-background: var(--sg-text-color, var(--theme-code-foreground, var(--jp-content-font-color1, white)));\n",
       "    --sklearn-color-background: var(--sg-background-color, var(--theme-background, var(--jp-layout-color0, #111)));\n",
       "    --sklearn-color-border-box: var(--sg-text-color, var(--theme-code-foreground, var(--jp-content-font-color1, white)));\n",
       "    --sklearn-color-icon: #878787;\n",
       "  }\n",
       "}\n",
       "\n",
       "#sk-container-id-1 {\n",
       "  color: var(--sklearn-color-text);\n",
       "}\n",
       "\n",
       "#sk-container-id-1 pre {\n",
       "  padding: 0;\n",
       "}\n",
       "\n",
       "#sk-container-id-1 input.sk-hidden--visually {\n",
       "  border: 0;\n",
       "  clip: rect(1px 1px 1px 1px);\n",
       "  clip: rect(1px, 1px, 1px, 1px);\n",
       "  height: 1px;\n",
       "  margin: -1px;\n",
       "  overflow: hidden;\n",
       "  padding: 0;\n",
       "  position: absolute;\n",
       "  width: 1px;\n",
       "}\n",
       "\n",
       "#sk-container-id-1 div.sk-dashed-wrapped {\n",
       "  border: 1px dashed var(--sklearn-color-line);\n",
       "  margin: 0 0.4em 0.5em 0.4em;\n",
       "  box-sizing: border-box;\n",
       "  padding-bottom: 0.4em;\n",
       "  background-color: var(--sklearn-color-background);\n",
       "}\n",
       "\n",
       "#sk-container-id-1 div.sk-container {\n",
       "  /* jupyter's `normalize.less` sets `[hidden] { display: none; }`\n",
       "     but bootstrap.min.css set `[hidden] { display: none !important; }`\n",
       "     so we also need the `!important` here to be able to override the\n",
       "     default hidden behavior on the sphinx rendered scikit-learn.org.\n",
       "     See: https://github.com/scikit-learn/scikit-learn/issues/21755 */\n",
       "  display: inline-block !important;\n",
       "  position: relative;\n",
       "}\n",
       "\n",
       "#sk-container-id-1 div.sk-text-repr-fallback {\n",
       "  display: none;\n",
       "}\n",
       "\n",
       "div.sk-parallel-item,\n",
       "div.sk-serial,\n",
       "div.sk-item {\n",
       "  /* draw centered vertical line to link estimators */\n",
       "  background-image: linear-gradient(var(--sklearn-color-text-on-default-background), var(--sklearn-color-text-on-default-background));\n",
       "  background-size: 2px 100%;\n",
       "  background-repeat: no-repeat;\n",
       "  background-position: center center;\n",
       "}\n",
       "\n",
       "/* Parallel-specific style estimator block */\n",
       "\n",
       "#sk-container-id-1 div.sk-parallel-item::after {\n",
       "  content: \"\";\n",
       "  width: 100%;\n",
       "  border-bottom: 2px solid var(--sklearn-color-text-on-default-background);\n",
       "  flex-grow: 1;\n",
       "}\n",
       "\n",
       "#sk-container-id-1 div.sk-parallel {\n",
       "  display: flex;\n",
       "  align-items: stretch;\n",
       "  justify-content: center;\n",
       "  background-color: var(--sklearn-color-background);\n",
       "  position: relative;\n",
       "}\n",
       "\n",
       "#sk-container-id-1 div.sk-parallel-item {\n",
       "  display: flex;\n",
       "  flex-direction: column;\n",
       "}\n",
       "\n",
       "#sk-container-id-1 div.sk-parallel-item:first-child::after {\n",
       "  align-self: flex-end;\n",
       "  width: 50%;\n",
       "}\n",
       "\n",
       "#sk-container-id-1 div.sk-parallel-item:last-child::after {\n",
       "  align-self: flex-start;\n",
       "  width: 50%;\n",
       "}\n",
       "\n",
       "#sk-container-id-1 div.sk-parallel-item:only-child::after {\n",
       "  width: 0;\n",
       "}\n",
       "\n",
       "/* Serial-specific style estimator block */\n",
       "\n",
       "#sk-container-id-1 div.sk-serial {\n",
       "  display: flex;\n",
       "  flex-direction: column;\n",
       "  align-items: center;\n",
       "  background-color: var(--sklearn-color-background);\n",
       "  padding-right: 1em;\n",
       "  padding-left: 1em;\n",
       "}\n",
       "\n",
       "\n",
       "/* Toggleable style: style used for estimator/Pipeline/ColumnTransformer box that is\n",
       "clickable and can be expanded/collapsed.\n",
       "- Pipeline and ColumnTransformer use this feature and define the default style\n",
       "- Estimators will overwrite some part of the style using the `sk-estimator` class\n",
       "*/\n",
       "\n",
       "/* Pipeline and ColumnTransformer style (default) */\n",
       "\n",
       "#sk-container-id-1 div.sk-toggleable {\n",
       "  /* Default theme specific background. It is overwritten whether we have a\n",
       "  specific estimator or a Pipeline/ColumnTransformer */\n",
       "  background-color: var(--sklearn-color-background);\n",
       "}\n",
       "\n",
       "/* Toggleable label */\n",
       "#sk-container-id-1 label.sk-toggleable__label {\n",
       "  cursor: pointer;\n",
       "  display: block;\n",
       "  width: 100%;\n",
       "  margin-bottom: 0;\n",
       "  padding: 0.5em;\n",
       "  box-sizing: border-box;\n",
       "  text-align: center;\n",
       "}\n",
       "\n",
       "#sk-container-id-1 label.sk-toggleable__label-arrow:before {\n",
       "  /* Arrow on the left of the label */\n",
       "  content: \"▸\";\n",
       "  float: left;\n",
       "  margin-right: 0.25em;\n",
       "  color: var(--sklearn-color-icon);\n",
       "}\n",
       "\n",
       "#sk-container-id-1 label.sk-toggleable__label-arrow:hover:before {\n",
       "  color: var(--sklearn-color-text);\n",
       "}\n",
       "\n",
       "/* Toggleable content - dropdown */\n",
       "\n",
       "#sk-container-id-1 div.sk-toggleable__content {\n",
       "  max-height: 0;\n",
       "  max-width: 0;\n",
       "  overflow: hidden;\n",
       "  text-align: left;\n",
       "  /* unfitted */\n",
       "  background-color: var(--sklearn-color-unfitted-level-0);\n",
       "}\n",
       "\n",
       "#sk-container-id-1 div.sk-toggleable__content.fitted {\n",
       "  /* fitted */\n",
       "  background-color: var(--sklearn-color-fitted-level-0);\n",
       "}\n",
       "\n",
       "#sk-container-id-1 div.sk-toggleable__content pre {\n",
       "  margin: 0.2em;\n",
       "  border-radius: 0.25em;\n",
       "  color: var(--sklearn-color-text);\n",
       "  /* unfitted */\n",
       "  background-color: var(--sklearn-color-unfitted-level-0);\n",
       "}\n",
       "\n",
       "#sk-container-id-1 div.sk-toggleable__content.fitted pre {\n",
       "  /* unfitted */\n",
       "  background-color: var(--sklearn-color-fitted-level-0);\n",
       "}\n",
       "\n",
       "#sk-container-id-1 input.sk-toggleable__control:checked~div.sk-toggleable__content {\n",
       "  /* Expand drop-down */\n",
       "  max-height: 200px;\n",
       "  max-width: 100%;\n",
       "  overflow: auto;\n",
       "}\n",
       "\n",
       "#sk-container-id-1 input.sk-toggleable__control:checked~label.sk-toggleable__label-arrow:before {\n",
       "  content: \"▾\";\n",
       "}\n",
       "\n",
       "/* Pipeline/ColumnTransformer-specific style */\n",
       "\n",
       "#sk-container-id-1 div.sk-label input.sk-toggleable__control:checked~label.sk-toggleable__label {\n",
       "  color: var(--sklearn-color-text);\n",
       "  background-color: var(--sklearn-color-unfitted-level-2);\n",
       "}\n",
       "\n",
       "#sk-container-id-1 div.sk-label.fitted input.sk-toggleable__control:checked~label.sk-toggleable__label {\n",
       "  background-color: var(--sklearn-color-fitted-level-2);\n",
       "}\n",
       "\n",
       "/* Estimator-specific style */\n",
       "\n",
       "/* Colorize estimator box */\n",
       "#sk-container-id-1 div.sk-estimator input.sk-toggleable__control:checked~label.sk-toggleable__label {\n",
       "  /* unfitted */\n",
       "  background-color: var(--sklearn-color-unfitted-level-2);\n",
       "}\n",
       "\n",
       "#sk-container-id-1 div.sk-estimator.fitted input.sk-toggleable__control:checked~label.sk-toggleable__label {\n",
       "  /* fitted */\n",
       "  background-color: var(--sklearn-color-fitted-level-2);\n",
       "}\n",
       "\n",
       "#sk-container-id-1 div.sk-label label.sk-toggleable__label,\n",
       "#sk-container-id-1 div.sk-label label {\n",
       "  /* The background is the default theme color */\n",
       "  color: var(--sklearn-color-text-on-default-background);\n",
       "}\n",
       "\n",
       "/* On hover, darken the color of the background */\n",
       "#sk-container-id-1 div.sk-label:hover label.sk-toggleable__label {\n",
       "  color: var(--sklearn-color-text);\n",
       "  background-color: var(--sklearn-color-unfitted-level-2);\n",
       "}\n",
       "\n",
       "/* Label box, darken color on hover, fitted */\n",
       "#sk-container-id-1 div.sk-label.fitted:hover label.sk-toggleable__label.fitted {\n",
       "  color: var(--sklearn-color-text);\n",
       "  background-color: var(--sklearn-color-fitted-level-2);\n",
       "}\n",
       "\n",
       "/* Estimator label */\n",
       "\n",
       "#sk-container-id-1 div.sk-label label {\n",
       "  font-family: monospace;\n",
       "  font-weight: bold;\n",
       "  display: inline-block;\n",
       "  line-height: 1.2em;\n",
       "}\n",
       "\n",
       "#sk-container-id-1 div.sk-label-container {\n",
       "  text-align: center;\n",
       "}\n",
       "\n",
       "/* Estimator-specific */\n",
       "#sk-container-id-1 div.sk-estimator {\n",
       "  font-family: monospace;\n",
       "  border: 1px dotted var(--sklearn-color-border-box);\n",
       "  border-radius: 0.25em;\n",
       "  box-sizing: border-box;\n",
       "  margin-bottom: 0.5em;\n",
       "  /* unfitted */\n",
       "  background-color: var(--sklearn-color-unfitted-level-0);\n",
       "}\n",
       "\n",
       "#sk-container-id-1 div.sk-estimator.fitted {\n",
       "  /* fitted */\n",
       "  background-color: var(--sklearn-color-fitted-level-0);\n",
       "}\n",
       "\n",
       "/* on hover */\n",
       "#sk-container-id-1 div.sk-estimator:hover {\n",
       "  /* unfitted */\n",
       "  background-color: var(--sklearn-color-unfitted-level-2);\n",
       "}\n",
       "\n",
       "#sk-container-id-1 div.sk-estimator.fitted:hover {\n",
       "  /* fitted */\n",
       "  background-color: var(--sklearn-color-fitted-level-2);\n",
       "}\n",
       "\n",
       "/* Specification for estimator info (e.g. \"i\" and \"?\") */\n",
       "\n",
       "/* Common style for \"i\" and \"?\" */\n",
       "\n",
       ".sk-estimator-doc-link,\n",
       "a:link.sk-estimator-doc-link,\n",
       "a:visited.sk-estimator-doc-link {\n",
       "  float: right;\n",
       "  font-size: smaller;\n",
       "  line-height: 1em;\n",
       "  font-family: monospace;\n",
       "  background-color: var(--sklearn-color-background);\n",
       "  border-radius: 1em;\n",
       "  height: 1em;\n",
       "  width: 1em;\n",
       "  text-decoration: none !important;\n",
       "  margin-left: 1ex;\n",
       "  /* unfitted */\n",
       "  border: var(--sklearn-color-unfitted-level-1) 1pt solid;\n",
       "  color: var(--sklearn-color-unfitted-level-1);\n",
       "}\n",
       "\n",
       ".sk-estimator-doc-link.fitted,\n",
       "a:link.sk-estimator-doc-link.fitted,\n",
       "a:visited.sk-estimator-doc-link.fitted {\n",
       "  /* fitted */\n",
       "  border: var(--sklearn-color-fitted-level-1) 1pt solid;\n",
       "  color: var(--sklearn-color-fitted-level-1);\n",
       "}\n",
       "\n",
       "/* On hover */\n",
       "div.sk-estimator:hover .sk-estimator-doc-link:hover,\n",
       ".sk-estimator-doc-link:hover,\n",
       "div.sk-label-container:hover .sk-estimator-doc-link:hover,\n",
       ".sk-estimator-doc-link:hover {\n",
       "  /* unfitted */\n",
       "  background-color: var(--sklearn-color-unfitted-level-3);\n",
       "  color: var(--sklearn-color-background);\n",
       "  text-decoration: none;\n",
       "}\n",
       "\n",
       "div.sk-estimator.fitted:hover .sk-estimator-doc-link.fitted:hover,\n",
       ".sk-estimator-doc-link.fitted:hover,\n",
       "div.sk-label-container:hover .sk-estimator-doc-link.fitted:hover,\n",
       ".sk-estimator-doc-link.fitted:hover {\n",
       "  /* fitted */\n",
       "  background-color: var(--sklearn-color-fitted-level-3);\n",
       "  color: var(--sklearn-color-background);\n",
       "  text-decoration: none;\n",
       "}\n",
       "\n",
       "/* Span, style for the box shown on hovering the info icon */\n",
       ".sk-estimator-doc-link span {\n",
       "  display: none;\n",
       "  z-index: 9999;\n",
       "  position: relative;\n",
       "  font-weight: normal;\n",
       "  right: .2ex;\n",
       "  padding: .5ex;\n",
       "  margin: .5ex;\n",
       "  width: min-content;\n",
       "  min-width: 20ex;\n",
       "  max-width: 50ex;\n",
       "  color: var(--sklearn-color-text);\n",
       "  box-shadow: 2pt 2pt 4pt #999;\n",
       "  /* unfitted */\n",
       "  background: var(--sklearn-color-unfitted-level-0);\n",
       "  border: .5pt solid var(--sklearn-color-unfitted-level-3);\n",
       "}\n",
       "\n",
       ".sk-estimator-doc-link.fitted span {\n",
       "  /* fitted */\n",
       "  background: var(--sklearn-color-fitted-level-0);\n",
       "  border: var(--sklearn-color-fitted-level-3);\n",
       "}\n",
       "\n",
       ".sk-estimator-doc-link:hover span {\n",
       "  display: block;\n",
       "}\n",
       "\n",
       "/* \"?\"-specific style due to the `<a>` HTML tag */\n",
       "\n",
       "#sk-container-id-1 a.estimator_doc_link {\n",
       "  float: right;\n",
       "  font-size: 1rem;\n",
       "  line-height: 1em;\n",
       "  font-family: monospace;\n",
       "  background-color: var(--sklearn-color-background);\n",
       "  border-radius: 1rem;\n",
       "  height: 1rem;\n",
       "  width: 1rem;\n",
       "  text-decoration: none;\n",
       "  /* unfitted */\n",
       "  color: var(--sklearn-color-unfitted-level-1);\n",
       "  border: var(--sklearn-color-unfitted-level-1) 1pt solid;\n",
       "}\n",
       "\n",
       "#sk-container-id-1 a.estimator_doc_link.fitted {\n",
       "  /* fitted */\n",
       "  border: var(--sklearn-color-fitted-level-1) 1pt solid;\n",
       "  color: var(--sklearn-color-fitted-level-1);\n",
       "}\n",
       "\n",
       "/* On hover */\n",
       "#sk-container-id-1 a.estimator_doc_link:hover {\n",
       "  /* unfitted */\n",
       "  background-color: var(--sklearn-color-unfitted-level-3);\n",
       "  color: var(--sklearn-color-background);\n",
       "  text-decoration: none;\n",
       "}\n",
       "\n",
       "#sk-container-id-1 a.estimator_doc_link.fitted:hover {\n",
       "  /* fitted */\n",
       "  background-color: var(--sklearn-color-fitted-level-3);\n",
       "}\n",
       "</style><div id=\"sk-container-id-1\" class=\"sk-top-container\"><div class=\"sk-text-repr-fallback\"><pre>LinearRegression()</pre><b>In a Jupyter environment, please rerun this cell to show the HTML representation or trust the notebook. <br />On GitHub, the HTML representation is unable to render, please try loading this page with nbviewer.org.</b></div><div class=\"sk-container\" hidden><div class=\"sk-item\"><div class=\"sk-estimator fitted sk-toggleable\"><input class=\"sk-toggleable__control sk-hidden--visually\" id=\"sk-estimator-id-1\" type=\"checkbox\" checked><label for=\"sk-estimator-id-1\" class=\"sk-toggleable__label fitted sk-toggleable__label-arrow fitted\">&nbsp;&nbsp;LinearRegression<a class=\"sk-estimator-doc-link fitted\" rel=\"noreferrer\" target=\"_blank\" href=\"https://scikit-learn.org/1.5/modules/generated/sklearn.linear_model.LinearRegression.html\">?<span>Documentation for LinearRegression</span></a><span class=\"sk-estimator-doc-link fitted\">i<span>Fitted</span></span></label><div class=\"sk-toggleable__content fitted\"><pre>LinearRegression()</pre></div> </div></div></div></div>"
      ],
      "text/plain": [
       "LinearRegression()"
      ]
     },
     "execution_count": 22,
     "metadata": {},
     "output_type": "execute_result"
    }
   ],
   "source": [
    "linear_model = LinearRegression()\n",
    "\n",
    "## usamos o método fit para treinar o modelo (obtém os parâmetros do\n",
    "## modelo)\n",
    "linear_model.fit(X, y)"
   ]
  },
  {
   "cell_type": "code",
   "execution_count": 27,
   "id": "8bd7b2c1-1f74-42ec-80cf-5d5de6214ec5",
   "metadata": {},
   "outputs": [
    {
     "data": {
      "image/png": "[encoded data removed]",
      "text/plain": [
       "<Figure size 1400x800 with 1 Axes>"
      ]
     },
     "metadata": {},
     "output_type": "display_data"
    }
   ],
   "source": [
    "## iremos plotar a linha que representa a equação do modelo\n",
    "## de regressão linear\n",
    "fig, ax = plt.subplots(1, 1, figsize=(14, 8))\n",
    "\n",
    "## atribuindo os limites dos eixos x e y usando\n",
    "## os valores máximos e mínimos do tempo de Exposição\n",
    "## e do PEFR (y, variável alvo)\n",
    "ax.set_xlim(X['Exposure'].min(),\n",
    "            X['Exposure'].max())\n",
    "\n",
    "ax.set_ylim(y.min(),\n",
    "            y.max())\n",
    "\n",
    "ax.set_xlabel('Exposure')\n",
    "ax.set_ylabel('PEFR')\n",
    "\n",
    "## obtém os valores extremos da equação de regressão para desenhar os\n",
    "## extremos da reta\n",
    "ax.plot((0, 23),\n",
    "        linear_model.predict(pd.DataFrame({'Exposure': [0, 23]})))\n",
    "\n",
    "## posiciona o intercepto (coeficiente b_0) na reta\n",
    "ax.text(0.4,\n",
    "        linear_model.intercept_,\n",
    "        r'$b_0$',\n",
    "        size='larger')\n",
    "\n",
    "plt.show()"
   ]
  },
  {
   "cell_type": "code",
   "execution_count": 28,
   "id": "0449e1cf-a3ac-4f8a-bf7e-377b308e0509",
   "metadata": {},
   "outputs": [
    {
     "name": "stdout",
     "output_type": "stream",
     "text": [
      "Equation: Y = 424.583 + -4.185 X\n"
     ]
    }
   ],
   "source": [
    "print(f'Equation: Y = {linear_model.intercept_:.3f} + '\n",
    "      f'{linear_model.coef_[0]:.3f} X')"
   ]
  },
  {
   "cell_type": "markdown",
   "id": "a134987c-ec5d-4ad5-b633-80392d24417f",
   "metadata": {},
   "source": [
    "Agora vamos avaliar o modelo construíndo."
   ]
  },
  {
   "cell_type": "code",
   "execution_count": 31,
   "id": "8b377549-66ea-47d7-9a35-ae7d8915fb8c",
   "metadata": {},
   "outputs": [
    {
     "name": "stdout",
     "output_type": "stream",
     "text": [
      "X: 0  Real value: 390  Predicted value: 424.582806573957  Error: -34.58280657395699\n",
      "X: 0  Real value: 410  Predicted value: 424.582806573957  Error: -14.582806573956987\n",
      "X: 0  Real value: 430  Predicted value: 424.582806573957  Error: 5.4171934260430135\n",
      "X: 0  Real value: 460  Predicted value: 424.582806573957  Error: 35.41719342604301\n",
      "X: 1  Real value: 420  Predicted value: 420.39823008849555  Error: -0.3982300884955521\n",
      "X: 2  Real value: 280  Predicted value: 416.2136536030341  Error: -136.21365360303412\n",
      "X: 2  Real value: 420  Predicted value: 416.2136536030341  Error: 3.7863463969658824\n",
      "X: 2  Real value: 520  Predicted value: 416.2136536030341  Error: 103.78634639696588\n",
      "X: 3  Real value: 610  Predicted value: 412.0290771175727  Error: 197.97092288242732\n",
      "X: 3  Real value: 590  Predicted value: 412.0290771175727  Error: 177.97092288242732\n",
      "X: 3  Real value: 430  Predicted value: 412.0290771175727  Error: 17.970922882427317\n",
      "X: 3  Real value: 410  Predicted value: 412.0290771175727  Error: -2.029077117572683\n",
      "X: 3  Real value: 360  Predicted value: 412.0290771175727  Error: -52.02907711757268\n",
      "X: 3  Real value: 320  Predicted value: 412.0290771175727  Error: -92.02907711757268\n",
      "X: 4  Real value: 110  Predicted value: 407.84450063211125  Error: -297.84450063211125\n",
      "X: 4  Real value: 390  Predicted value: 407.84450063211125  Error: -17.84450063211125\n",
      "X: 4  Real value: 400  Predicted value: 407.84450063211125  Error: -7.844500632111249\n",
      "X: 4  Real value: 420  Predicted value: 407.84450063211125  Error: 12.155499367888751\n",
      "X: 4  Real value: 450  Predicted value: 407.84450063211125  Error: 42.15549936788875\n",
      "X: 4  Real value: 520  Predicted value: 407.84450063211125  Error: 112.15549936788875\n",
      "X: 5  Real value: 460  Predicted value: 403.65992414664976  Error: 56.34007585335024\n",
      "X: 6  Real value: 200  Predicted value: 399.4753476611883  Error: -199.47534766118832\n",
      "X: 6  Real value: 390  Predicted value: 399.4753476611883  Error: -9.475347661188323\n",
      "X: 6  Real value: 340  Predicted value: 399.4753476611883  Error: -59.47534766118832\n",
      "X: 6  Real value: 450  Predicted value: 399.4753476611883  Error: 50.52465233881168\n",
      "X: 6  Real value: 550  Predicted value: 399.4753476611883  Error: 150.52465233881168\n",
      "X: 7  Real value: 300  Predicted value: 395.2907711757269  Error: -95.29077117572689\n",
      "X: 7  Real value: 320  Predicted value: 395.2907711757269  Error: -75.29077117572689\n",
      "X: 7  Real value: 340  Predicted value: 395.2907711757269  Error: -55.29077117572689\n",
      "X: 7  Real value: 360  Predicted value: 395.2907711757269  Error: -35.29077117572689\n",
      "X: 7  Real value: 430  Predicted value: 395.2907711757269  Error: 34.70922882427311\n",
      "X: 7  Real value: 480  Predicted value: 395.2907711757269  Error: 84.70922882427311\n",
      "X: 7  Real value: 560  Predicted value: 395.2907711757269  Error: 164.7092288242731\n",
      "X: 8  Real value: 500  Predicted value: 391.10619469026545  Error: 108.89380530973455\n",
      "X: 9  Real value: 310  Predicted value: 386.921618204804  Error: -76.92161820480402\n",
      "X: 10  Real value: 430  Predicted value: 382.7370417193426  Error: 47.262958280657415\n",
      "X: 10  Real value: 500  Predicted value: 382.7370417193426  Error: 117.26295828065741\n",
      "X: 10  Real value: 510  Predicted value: 382.7370417193426  Error: 127.26295828065741\n",
      "X: 12  Real value: 250  Predicted value: 374.36788874841966  Error: -124.36788874841966\n",
      "X: 12  Real value: 410  Predicted value: 374.36788874841966  Error: 35.63211125158034\n",
      "X: 13  Real value: 220  Predicted value: 370.1833122629582  Error: -150.18331226295822\n",
      "X: 13  Real value: 300  Predicted value: 370.1833122629582  Error: -70.18331226295822\n",
      "X: 13  Real value: 340  Predicted value: 370.1833122629582  Error: -30.183312262958225\n",
      "X: 13  Real value: 360  Predicted value: 370.1833122629582  Error: -10.183312262958225\n",
      "X: 13  Real value: 400  Predicted value: 370.1833122629582  Error: 29.816687737041775\n",
      "X: 13  Real value: 450  Predicted value: 370.1833122629582  Error: 79.81668773704178\n",
      "X: 13  Real value: 490  Predicted value: 370.1833122629582  Error: 119.81668773704178\n",
      "X: 13  Real value: 500  Predicted value: 370.1833122629582  Error: 129.81668773704178\n",
      "X: 14  Real value: 200  Predicted value: 365.9987357774968  Error: -165.9987357774968\n",
      "X: 14  Real value: 220  Predicted value: 365.9987357774968  Error: -145.9987357774968\n",
      "X: 14  Real value: 320  Predicted value: 365.9987357774968  Error: -45.99873577749679\n",
      "X: 14  Real value: 360  Predicted value: 365.9987357774968  Error: -5.99873577749679\n",
      "X: 14  Real value: 410  Predicted value: 365.9987357774968  Error: 44.00126422250321\n",
      "X: 14  Real value: 420  Predicted value: 365.9987357774968  Error: 54.00126422250321\n",
      "X: 15  Real value: 380  Predicted value: 361.81415929203536  Error: 18.185840707964644\n",
      "X: 15  Real value: 410  Predicted value: 361.81415929203536  Error: 48.185840707964644\n",
      "X: 15  Real value: 450  Predicted value: 361.81415929203536  Error: 88.18584070796464\n",
      "X: 16  Real value: 220  Predicted value: 357.6295828065739  Error: -137.62958280657392\n",
      "X: 16  Real value: 320  Predicted value: 357.6295828065739  Error: -37.62958280657392\n",
      "X: 17  Real value: 130  Predicted value: 353.4450063211125  Error: -223.4450063211125\n",
      "X: 17  Real value: 220  Predicted value: 353.4450063211125  Error: -133.4450063211125\n",
      "X: 17  Real value: 320  Predicted value: 353.4450063211125  Error: -33.44500632111249\n",
      "X: 17  Real value: 360  Predicted value: 353.4450063211125  Error: 6.554993678887513\n",
      "X: 17  Real value: 360  Predicted value: 353.4450063211125  Error: 6.554993678887513\n",
      "X: 17  Real value: 490  Predicted value: 353.4450063211125  Error: 136.5549936788875\n",
      "X: 18  Real value: 220  Predicted value: 349.26042983565105  Error: -129.26042983565105\n",
      "X: 18  Real value: 230  Predicted value: 349.26042983565105  Error: -119.26042983565105\n",
      "X: 18  Real value: 310  Predicted value: 349.26042983565105  Error: -39.26042983565105\n",
      "X: 18  Real value: 460  Predicted value: 349.26042983565105  Error: 110.73957016434895\n",
      "X: 19  Real value: 160  Predicted value: 345.0758533501896  Error: -185.07585335018962\n",
      "X: 19  Real value: 200  Predicted value: 345.0758533501896  Error: -145.07585335018962\n",
      "X: 19  Real value: 220  Predicted value: 345.0758533501896  Error: -125.07585335018962\n",
      "X: 19  Real value: 280  Predicted value: 345.0758533501896  Error: -65.07585335018962\n",
      "X: 19  Real value: 290  Predicted value: 345.0758533501896  Error: -55.07585335018962\n",
      "X: 19  Real value: 310  Predicted value: 345.0758533501896  Error: -35.07585335018962\n",
      "X: 19  Real value: 320  Predicted value: 345.0758533501896  Error: -25.075853350189618\n",
      "X: 19  Real value: 330  Predicted value: 345.0758533501896  Error: -15.075853350189618\n",
      "X: 19  Real value: 360  Predicted value: 345.0758533501896  Error: 14.924146649810382\n",
      "X: 19  Real value: 390  Predicted value: 345.0758533501896  Error: 44.92414664981038\n",
      "X: 19  Real value: 400  Predicted value: 345.0758533501896  Error: 54.92414664981038\n",
      "X: 19  Real value: 430  Predicted value: 345.0758533501896  Error: 84.92414664981038\n",
      "X: 19  Real value: 510  Predicted value: 345.0758533501896  Error: 164.92414664981038\n",
      "X: 20  Real value: 150  Predicted value: 340.8912768647282  Error: -190.89127686472818\n",
      "X: 20  Real value: 190  Predicted value: 340.8912768647282  Error: -150.89127686472818\n",
      "X: 20  Real value: 200  Predicted value: 340.8912768647282  Error: -140.89127686472818\n",
      "X: 20  Real value: 210  Predicted value: 340.8912768647282  Error: -130.89127686472818\n",
      "X: 20  Real value: 240  Predicted value: 340.8912768647282  Error: -100.89127686472818\n",
      "X: 20  Real value: 220  Predicted value: 340.8912768647282  Error: -120.89127686472818\n",
      "X: 20  Real value: 250  Predicted value: 340.8912768647282  Error: -90.89127686472818\n",
      "X: 20  Real value: 260  Predicted value: 340.8912768647282  Error: -80.89127686472818\n",
      "X: 20  Real value: 280  Predicted value: 340.8912768647282  Error: -60.891276864728184\n",
      "X: 20  Real value: 290  Predicted value: 340.8912768647282  Error: -50.891276864728184\n",
      "X: 20  Real value: 300  Predicted value: 340.8912768647282  Error: -40.891276864728184\n",
      "X: 20  Real value: 310  Predicted value: 340.8912768647282  Error: -30.891276864728184\n",
      "X: 20  Real value: 320  Predicted value: 340.8912768647282  Error: -20.891276864728184\n",
      "X: 20  Real value: 330  Predicted value: 340.8912768647282  Error: -10.891276864728184\n",
      "X: 20  Real value: 360  Predicted value: 340.8912768647282  Error: 19.108723135271816\n",
      "X: 20  Real value: 390  Predicted value: 340.8912768647282  Error: 49.108723135271816\n",
      "X: 20  Real value: 400  Predicted value: 340.8912768647282  Error: 59.108723135271816\n",
      "X: 20  Real value: 430  Predicted value: 340.8912768647282  Error: 89.10872313527182\n",
      "X: 20  Real value: 460  Predicted value: 340.8912768647282  Error: 119.10872313527182\n",
      "X: 20  Real value: 470  Predicted value: 340.8912768647282  Error: 129.10872313527182\n",
      "X: 20  Real value: 490  Predicted value: 340.8912768647282  Error: 149.10872313527182\n",
      "X: 20  Real value: 550  Predicted value: 340.8912768647282  Error: 209.10872313527182\n",
      "X: 21  Real value: 280  Predicted value: 336.70670037926675  Error: -56.70670037926675\n",
      "X: 21  Real value: 290  Predicted value: 336.70670037926675  Error: -46.70670037926675\n",
      "X: 21  Real value: 320  Predicted value: 336.70670037926675  Error: -16.70670037926675\n",
      "X: 21  Real value: 330  Predicted value: 336.70670037926675  Error: -6.706700379266749\n",
      "X: 21  Real value: 350  Predicted value: 336.70670037926675  Error: 13.29329962073325\n",
      "X: 21  Real value: 370  Predicted value: 336.70670037926675  Error: 33.29329962073325\n",
      "X: 21  Real value: 390  Predicted value: 336.70670037926675  Error: 53.29329962073325\n",
      "X: 21  Real value: 400  Predicted value: 336.70670037926675  Error: 63.29329962073325\n",
      "X: 21  Real value: 510  Predicted value: 336.70670037926675  Error: 173.29329962073325\n",
      "X: 21  Real value: 530  Predicted value: 336.70670037926675  Error: 193.29329962073325\n",
      "X: 22  Real value: 280  Predicted value: 332.52212389380526  Error: -52.52212389380526\n",
      "X: 22  Real value: 360  Predicted value: 332.52212389380526  Error: 27.477876106194742\n",
      "X: 22  Real value: 400  Predicted value: 332.52212389380526  Error: 67.47787610619474\n",
      "X: 22  Real value: 450  Predicted value: 332.52212389380526  Error: 117.47787610619474\n",
      "X: 22  Real value: 490  Predicted value: 332.52212389380526  Error: 157.47787610619474\n",
      "X: 22  Real value: 500  Predicted value: 332.52212389380526  Error: 167.47787610619474\n",
      "X: 23  Real value: 370  Predicted value: 328.3375474083438  Error: 41.66245259165618\n",
      "X: 23  Real value: 390  Predicted value: 328.3375474083438  Error: 61.66245259165618\n"
     ]
    }
   ],
   "source": [
    "## simplesmente faz valor real - valor previsto\n",
    "## poder ser um resultado interessante ponto a ponto,\n",
    "## porém um quanto tanto intedianente para expressar um\n",
    "## resultado geral\n",
    "predicted_value = linear_model.predict(X)\n",
    "error = y - predicted_value\n",
    "\n",
    "for x, real, p, erro in zip(lung_disease.Exposure,\n",
    "                            lung_disease.PEFR,\n",
    "                            predicted_value,\n",
    "                            error):\n",
    "    print(f\"X: {x}  Real value: {real}  Predicted value: {p}  Error: {erro}\")"
   ]
  },
  {
   "cell_type": "code",
   "execution_count": 38,
   "id": "0208bbf9-24e3-46e3-9a0e-4c8a718491c9",
   "metadata": {},
   "outputs": [],
   "source": [
    "from sklearn.metrics import mean_absolute_error\n",
    "from sklearn.metrics import mean_squared_error\n",
    "from sklearn.metrics import r2_score"
   ]
  },
  {
   "cell_type": "code",
   "execution_count": 43,
   "id": "0688050a-c225-4629-bd34-13467cbc9279",
   "metadata": {},
   "outputs": [
    {
     "name": "stdout",
     "output_type": "stream",
     "text": [
      "Erro quadrático médio: 10121.018735362997\n",
      "Erro absoluto médio:   80.60351080806615\n",
      "R^2 escore:            7.67410228628338\n"
     ]
    }
   ],
   "source": [
    "print(f'Erro quadrático médio: {mean_squared_error(y, predicted_value)}')\n",
    "print(f'Erro absoluto médio:   {mean_absolute_error(y, predicted_value)}')\n",
    "print(f'R^2 escore:            {r2_score(y, predicted_value) * 100}')"
   ]
  },
  {
   "cell_type": "code",
   "execution_count": 32,
   "id": "e59072f3-6ec5-4c53-9768-dba15f919815",
   "metadata": {},
   "outputs": [
    {
     "data": {
      "image/png": "[encoded data removed]",
      "text/plain": [
       "<Figure size 1400x800 with 1 Axes>"
      ]
     },
     "metadata": {},
     "output_type": "display_data"
    }
   ],
   "source": [
    "## mostra graficamente a diferença entre o valor previsto\n",
    "## e o valor real\n",
    "fig, ax = plt.subplots(1, 1, figsize=(14, 8))\n",
    "\n",
    "ax.scatter(x=lung_disease['Exposure'],\n",
    "           y=lung_disease['PEFR'])\n",
    "\n",
    "ax.plot(lung_disease.Exposure, predicted_value)\n",
    "\n",
    "for x, y_real, y_predicted in zip(lung_disease.Exposure,\n",
    "                                  lung_disease.PEFR,\n",
    "                                  predicted_value):\n",
    "    ax.plot((x,x), (y_real, y_predicted), '--', color='C1')\n",
    "\n",
    "ax.set_title('Predicted value x Real value')\n",
    "ax.set_xlabel('Exposure in years')\n",
    "ax.set_ylabel('PEFR')\n",
    "\n",
    "plt.show()"
   ]
  }
 ],
 "metadata": {
  "kernelspec": {
   "display_name": "Python 3 (ipykernel)",
   "language": "python",
   "name": "python3"
  },
  "language_info": {
   "codemirror_mode": {
    "name": "ipython",
    "version": 3
   },
   "file_extension": ".py",
   "mimetype": "text/x-python",
   "name": "python",
   "nbconvert_exporter": "python",
   "pygments_lexer": "ipython3",
   "version": "3.10.12"
  }
 },
 "nbformat": 4,
 "nbformat_minor": 5
}
